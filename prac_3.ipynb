{
  "nbformat": 4,
  "nbformat_minor": 0,
  "metadata": {
    "colab": {
      "provenance": []
    },
    "kernelspec": {
      "name": "python3",
      "display_name": "Python 3"
    },
    "language_info": {
      "name": "python"
    }
  },
  "cells": [
    {
      "cell_type": "code",
      "execution_count": 3,
      "metadata": {
        "id": "4xx4SOPHQTPX"
      },
      "outputs": [],
      "source": [
        "import pandas as pd\n",
        "import numpy as np\n",
        "\n",
        "df = pd.read_csv(\"https://raw.githubusercontent.com/ladydisdain5911/python_course_repo/refs/heads/hw_3/train.csv\")"
      ]
    },
    {
      "cell_type": "code",
      "source": [
        "print(\"-\" * 20 + \"Основная информация о датасете\" + \"-\" * 20, end='\\n')\n",
        "print(df.info(), end='\\n')\n",
        "\n",
        "print(\"-\" * 20 + \"Статистика\" + \"-\" * 20, end='\\n')\n",
        "print(df.describe(include='all'), end='\\n')\n",
        "\n",
        "print(\"-\" * 20 + \"Общее количесвто  пропусков\" + \"-\" * 20, end='\\n')\n",
        "print(df.isnull().sum(), end='\\n')"
      ],
      "metadata": {
        "colab": {
          "base_uri": "https://localhost:8080/"
        },
        "id": "xLigBjWtT2om",
        "outputId": "05a051c7-5e2b-43bb-d5d8-67faee719e43"
      },
      "execution_count": 4,
      "outputs": [
        {
          "output_type": "stream",
          "name": "stdout",
          "text": [
            "--------------------Основная информация о датасете--------------------\n",
            "<class 'pandas.core.frame.DataFrame'>\n",
            "RangeIndex: 891 entries, 0 to 890\n",
            "Data columns (total 12 columns):\n",
            " #   Column       Non-Null Count  Dtype  \n",
            "---  ------       --------------  -----  \n",
            " 0   PassengerId  891 non-null    int64  \n",
            " 1   Survived     891 non-null    int64  \n",
            " 2   Pclass       891 non-null    int64  \n",
            " 3   Name         891 non-null    object \n",
            " 4   Sex          891 non-null    object \n",
            " 5   Age          714 non-null    float64\n",
            " 6   SibSp        891 non-null    int64  \n",
            " 7   Parch        891 non-null    int64  \n",
            " 8   Ticket       891 non-null    object \n",
            " 9   Fare         891 non-null    float64\n",
            " 10  Cabin        204 non-null    object \n",
            " 11  Embarked     889 non-null    object \n",
            "dtypes: float64(2), int64(5), object(5)\n",
            "memory usage: 83.7+ KB\n",
            "None\n",
            "--------------------Статистика--------------------\n",
            "        PassengerId    Survived      Pclass                 Name   Sex  \\\n",
            "count    891.000000  891.000000  891.000000                  891   891   \n",
            "unique          NaN         NaN         NaN                  891     2   \n",
            "top             NaN         NaN         NaN  Dooley, Mr. Patrick  male   \n",
            "freq            NaN         NaN         NaN                    1   577   \n",
            "mean     446.000000    0.383838    2.308642                  NaN   NaN   \n",
            "std      257.353842    0.486592    0.836071                  NaN   NaN   \n",
            "min        1.000000    0.000000    1.000000                  NaN   NaN   \n",
            "25%      223.500000    0.000000    2.000000                  NaN   NaN   \n",
            "50%      446.000000    0.000000    3.000000                  NaN   NaN   \n",
            "75%      668.500000    1.000000    3.000000                  NaN   NaN   \n",
            "max      891.000000    1.000000    3.000000                  NaN   NaN   \n",
            "\n",
            "               Age       SibSp       Parch  Ticket        Fare Cabin Embarked  \n",
            "count   714.000000  891.000000  891.000000     891  891.000000   204      889  \n",
            "unique         NaN         NaN         NaN     681         NaN   147        3  \n",
            "top            NaN         NaN         NaN  347082         NaN    G6        S  \n",
            "freq           NaN         NaN         NaN       7         NaN     4      644  \n",
            "mean     29.699118    0.523008    0.381594     NaN   32.204208   NaN      NaN  \n",
            "std      14.526497    1.102743    0.806057     NaN   49.693429   NaN      NaN  \n",
            "min       0.420000    0.000000    0.000000     NaN    0.000000   NaN      NaN  \n",
            "25%      20.125000    0.000000    0.000000     NaN    7.910400   NaN      NaN  \n",
            "50%      28.000000    0.000000    0.000000     NaN   14.454200   NaN      NaN  \n",
            "75%      38.000000    1.000000    0.000000     NaN   31.000000   NaN      NaN  \n",
            "max      80.000000    8.000000    6.000000     NaN  512.329200   NaN      NaN  \n",
            "--------------------Общее количесвто  пропусков--------------------\n",
            "PassengerId      0\n",
            "Survived         0\n",
            "Pclass           0\n",
            "Name             0\n",
            "Sex              0\n",
            "Age            177\n",
            "SibSp            0\n",
            "Parch            0\n",
            "Ticket           0\n",
            "Fare             0\n",
            "Cabin          687\n",
            "Embarked         2\n",
            "dtype: int64\n"
          ]
        }
      ]
    },
    {
      "cell_type": "code",
      "source": [
        "survivalByClass = df.groupby('Pclass')['Survived'].mean() * 100\n",
        "print(\"-\" * 20 + \"Процент выживаемости по классам\" + \"-\" * 20, end='\\n')\n",
        "print(survivalByClass, end='\\n')"
      ],
      "metadata": {
        "colab": {
          "base_uri": "https://localhost:8080/"
        },
        "id": "LxL942-_aT20",
        "outputId": "d9605774-242f-48ab-80f8-fc53f7da9eea"
      },
      "execution_count": 5,
      "outputs": [
        {
          "output_type": "stream",
          "name": "stdout",
          "text": [
            "--------------------Процент выживаемости по классам--------------------\n",
            "Pclass\n",
            "1    62.962963\n",
            "2    47.282609\n",
            "3    24.236253\n",
            "Name: Survived, dtype: float64\n"
          ]
        }
      ]
    },
    {
      "cell_type": "code",
      "source": [
        "def extractFirstName(fullName):\n",
        "    if '(' in fullName:\n",
        "        return fullName.split('(')[1].split(')')[0].split(' ')[0].replace('\"', '')\n",
        "    else:\n",
        "        parts = fullName.split(' ')\n",
        "        return parts[2]\n",
        "\n",
        "\n",
        "df['FirstName'] = df['Name'].apply(extractFirstName)\n",
        "maleNames = df[df['Sex'] == 'male']['FirstName']\n",
        "femaleNames = df[df['Sex'] == 'female']['FirstName']\n",
        "print(\"-\" * 20 + \"Самое популярное мужское имя\" + \"-\" * 20, end='\\n')\n",
        "print(maleNames.mode()[0], end='\\n')\n",
        "print(\"-\" * 20 + \"Самое популярное женское имя\" + \"-\" * 20, end='\\n')\n",
        "print(femaleNames.mode()[0], end='\\n')"
      ],
      "metadata": {
        "colab": {
          "base_uri": "https://localhost:8080/"
        },
        "id": "Ck2p1PyDWQ_2",
        "outputId": "d742f22c-96a2-4b90-9ec1-1a49beb3160c"
      },
      "execution_count": 6,
      "outputs": [
        {
          "output_type": "stream",
          "name": "stdout",
          "text": [
            "--------------------Самое популярное мужское имя--------------------\n",
            "William\n",
            "--------------------Самое популярное женское имя--------------------\n",
            "Anna\n"
          ]
        }
      ]
    },
    {
      "cell_type": "code",
      "source": [
        "print(\"-\" * 20 + \"Самое популярное имя по классу и полу\" + \"-\" * 20, end='\\n')\n",
        "for pclass in sorted(df['Pclass'].unique()):\n",
        "    for sex in ['male', 'female']:\n",
        "        names = df[(df['Pclass'] == pclass) & (df['Sex'] == sex)]['FirstName']\n",
        "        if not names.empty:\n",
        "            print(f\"Pclass {pclass}, {sex}: {names.mode()[0]}\", end='\\n')\n",
        "        else:\n",
        "            print(f\"Pclass {pclass}, {sex}: нет пассажиров данного пола\")"
      ],
      "metadata": {
        "colab": {
          "base_uri": "https://localhost:8080/"
        },
        "id": "-gWC0kh0hkPw",
        "outputId": "6c5ef26f-1445-4f20-8e8f-582cb92e2962"
      },
      "execution_count": 7,
      "outputs": [
        {
          "output_type": "stream",
          "name": "stdout",
          "text": [
            "--------------------Самое популярное имя по классу и полу--------------------\n",
            "Pclass 1, male: William\n",
            "Pclass 1, female: Elizabeth\n",
            "Pclass 2, male: William\n",
            "Pclass 2, female: Elizabeth\n",
            "Pclass 3, male: William\n",
            "Pclass 3, female: Anna\n"
          ]
        }
      ]
    },
    {
      "cell_type": "code",
      "source": [
        "print(\"-\" * 20 + \"Часть таблицы с пассажирами, возраст которых больше 44 лет\" + \"-\" * 20, end='\\n')\n",
        "print(df[df['Age'] > 44])"
      ],
      "metadata": {
        "colab": {
          "base_uri": "https://localhost:8080/"
        },
        "id": "fSQVrxsTHMrW",
        "outputId": "cfef5f3e-d02f-4a9b-8d02-5fe00e5ef29a"
      },
      "execution_count": 8,
      "outputs": [
        {
          "output_type": "stream",
          "name": "stdout",
          "text": [
            "--------------------Часть таблицы с пассажирами, возраст которых больше 44 лет--------------------\n",
            "     PassengerId  Survived  Pclass  \\\n",
            "6              7         0       1   \n",
            "11            12         1       1   \n",
            "15            16         1       2   \n",
            "33            34         0       2   \n",
            "52            53         1       1   \n",
            "..           ...       ...     ...   \n",
            "857          858         1       1   \n",
            "862          863         1       1   \n",
            "871          872         1       1   \n",
            "873          874         0       3   \n",
            "879          880         1       1   \n",
            "\n",
            "                                                  Name     Sex   Age  SibSp  \\\n",
            "6                              McCarthy, Mr. Timothy J    male  54.0      0   \n",
            "11                            Bonnell, Miss. Elizabeth  female  58.0      0   \n",
            "15                    Hewlett, Mrs. (Mary D Kingcome)   female  55.0      0   \n",
            "33                               Wheadon, Mr. Edward H    male  66.0      0   \n",
            "52            Harper, Mrs. Henry Sleeper (Myna Haxtun)  female  49.0      1   \n",
            "..                                                 ...     ...   ...    ...   \n",
            "857                             Daly, Mr. Peter Denis     male  51.0      0   \n",
            "862  Swift, Mrs. Frederick Joel (Margaret Welles Ba...  female  48.0      0   \n",
            "871   Beckwith, Mrs. Richard Leonard (Sallie Monypeny)  female  47.0      1   \n",
            "873                        Vander Cruyssen, Mr. Victor    male  47.0      0   \n",
            "879      Potter, Mrs. Thomas Jr (Lily Alexenia Wilson)  female  56.0      0   \n",
            "\n",
            "     Parch      Ticket     Fare Cabin Embarked  FirstName  \n",
            "6        0       17463  51.8625   E46        S    Timothy  \n",
            "11       0      113783  26.5500  C103        S  Elizabeth  \n",
            "15       0      248706  16.0000   NaN        S       Mary  \n",
            "33       0  C.A. 24579  10.5000   NaN        S     Edward  \n",
            "52       0    PC 17572  76.7292   D33        C       Myna  \n",
            "..     ...         ...      ...   ...      ...        ...  \n",
            "857      0      113055  26.5500   E17        S      Peter  \n",
            "862      0       17466  25.9292   D17        S   Margaret  \n",
            "871      1       11751  52.5542   D35        S     Sallie  \n",
            "873      0      345765   9.0000   NaN        S        Mr.  \n",
            "879      1       11767  83.1583   C50        C       Lily  \n",
            "\n",
            "[115 rows x 13 columns]\n"
          ]
        }
      ]
    },
    {
      "cell_type": "code",
      "source": [
        "print(\"-\" * 20 + \"Часть таблицы с пассажирами мужского пола, возраст которых меньше 44 лет\" + \"-\" * 20, end='\\n')\n",
        "print(df[(df['Age'] < 44) & (df['Sex'] == 'male')])"
      ],
      "metadata": {
        "colab": {
          "base_uri": "https://localhost:8080/"
        },
        "id": "pkNQsVnnH5mc",
        "outputId": "ffef51c5-13ba-42e3-bc80-c1548b862bac"
      },
      "execution_count": 9,
      "outputs": [
        {
          "output_type": "stream",
          "name": "stdout",
          "text": [
            "--------------------Часть таблицы с пассажирами мужского пола, возраст которых меньше 44 лет--------------------\n",
            "     PassengerId  Survived  Pclass                            Name   Sex  \\\n",
            "0              1         0       3         Braund, Mr. Owen Harris  male   \n",
            "4              5         0       3        Allen, Mr. William Henry  male   \n",
            "7              8         0       3  Palsson, Master. Gosta Leonard  male   \n",
            "12            13         0       3  Saundercock, Mr. William Henry  male   \n",
            "13            14         0       3     Andersson, Mr. Anders Johan  male   \n",
            "..           ...       ...     ...                             ...   ...   \n",
            "883          884         0       2   Banfield, Mr. Frederick James  male   \n",
            "884          885         0       3          Sutehall, Mr. Henry Jr  male   \n",
            "886          887         0       2           Montvila, Rev. Juozas  male   \n",
            "889          890         1       1           Behr, Mr. Karl Howell  male   \n",
            "890          891         0       3             Dooley, Mr. Patrick  male   \n",
            "\n",
            "      Age  SibSp  Parch            Ticket    Fare Cabin Embarked  FirstName  \n",
            "0    22.0      1      0         A/5 21171   7.250   NaN        S       Owen  \n",
            "4    35.0      0      0            373450   8.050   NaN        S    William  \n",
            "7     2.0      3      1            349909  21.075   NaN        S      Gosta  \n",
            "12   20.0      0      0         A/5. 2151   8.050   NaN        S    William  \n",
            "13   39.0      1      5            347082  31.275   NaN        S     Anders  \n",
            "..    ...    ...    ...               ...     ...   ...      ...        ...  \n",
            "883  28.0      0      0  C.A./SOTON 34068  10.500   NaN        S  Frederick  \n",
            "884  25.0      0      0   SOTON/OQ 392076   7.050   NaN        S      Henry  \n",
            "886  27.0      0      0            211536  13.000   NaN        S     Juozas  \n",
            "889  26.0      0      0            111369  30.000  C148        C       Karl  \n",
            "890  32.0      0      0            370376   7.750   NaN        Q    Patrick  \n",
            "\n",
            "[368 rows x 13 columns]\n"
          ]
        }
      ]
    },
    {
      "cell_type": "code",
      "source": [
        "cabin_counts = df.groupby('Cabin').size().value_counts()\n",
        "print(\"-\" * 20 + \"Количество n-местных кабин\" + \"-\" * 20, end='\\n')\n",
        "print(cabin_counts.sort_index())\n",
        "print(\"Номер кабины не указан у\", df['Cabin'].isnull().sum(), \"пассажиров\", sep=' ')"
      ],
      "metadata": {
        "colab": {
          "base_uri": "https://localhost:8080/"
        },
        "id": "Lg5ckaupI3Zi",
        "outputId": "49f6a88a-e5c9-467e-f811-1279685f28ab"
      },
      "execution_count": 10,
      "outputs": [
        {
          "output_type": "stream",
          "name": "stdout",
          "text": [
            "--------------------Количество n-местных кабин--------------------\n",
            "1    101\n",
            "2     38\n",
            "3      5\n",
            "4      3\n",
            "Name: count, dtype: int64\n",
            "Номер кабины не указан у 687 пассажиров\n"
          ]
        }
      ]
    }
  ]
}