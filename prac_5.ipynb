{
  "nbformat": 4,
  "nbformat_minor": 0,
  "metadata": {
    "colab": {
      "provenance": []
    },
    "kernelspec": {
      "name": "python3",
      "display_name": "Python 3"
    },
    "language_info": {
      "name": "python"
    }
  },
  "cells": [
    {
      "cell_type": "code",
      "execution_count": 4,
      "metadata": {
        "colab": {
          "base_uri": "https://localhost:8080/"
        },
        "id": "wRyy0U2-zkAs",
        "outputId": "6a469da5-e884-4bb0-d86d-3492e3179655"
      },
      "outputs": [
        {
          "output_type": "stream",
          "name": "stdout",
          "text": [
            "Типы данных:\n",
            "[Int64, Int64, Int64, String, String, Float64, Int64, Int64, String, Float64, String, String]\n",
            "\n",
            "Количество пропусков:\n",
            "shape: (1, 12)\n",
            "┌─────────────┬──────────┬────────┬──────┬───┬────────┬──────┬───────┬──────────┐\n",
            "│ PassengerId ┆ Survived ┆ Pclass ┆ Name ┆ … ┆ Ticket ┆ Fare ┆ Cabin ┆ Embarked │\n",
            "│ ---         ┆ ---      ┆ ---    ┆ ---  ┆   ┆ ---    ┆ ---  ┆ ---   ┆ ---      │\n",
            "│ u32         ┆ u32      ┆ u32    ┆ u32  ┆   ┆ u32    ┆ u32  ┆ u32   ┆ u32      │\n",
            "╞═════════════╪══════════╪════════╪══════╪═══╪════════╪══════╪═══════╪══════════╡\n",
            "│ 0           ┆ 0        ┆ 0      ┆ 0    ┆ … ┆ 0      ┆ 0    ┆ 687   ┆ 2        │\n",
            "└─────────────┴──────────┴────────┴──────┴───┴────────┴──────┴───────┴──────────┘\n",
            "\n",
            "Описательная статистика:\n",
            "shape: (9, 13)\n",
            "┌────────────┬─────────────┬──────────┬──────────┬───┬───────────┬───────────┬───────┬──────────┐\n",
            "│ statistic  ┆ PassengerId ┆ Survived ┆ Pclass   ┆ … ┆ Ticket    ┆ Fare      ┆ Cabin ┆ Embarked │\n",
            "│ ---        ┆ ---         ┆ ---      ┆ ---      ┆   ┆ ---       ┆ ---       ┆ ---   ┆ ---      │\n",
            "│ str        ┆ f64         ┆ f64      ┆ f64      ┆   ┆ str       ┆ f64       ┆ str   ┆ str      │\n",
            "╞════════════╪═════════════╪══════════╪══════════╪═══╪═══════════╪═══════════╪═══════╪══════════╡\n",
            "│ count      ┆ 891.0       ┆ 891.0    ┆ 891.0    ┆ … ┆ 891       ┆ 891.0     ┆ 204   ┆ 889      │\n",
            "│ null_count ┆ 0.0         ┆ 0.0      ┆ 0.0      ┆ … ┆ 0         ┆ 0.0       ┆ 687   ┆ 2        │\n",
            "│ mean       ┆ 446.0       ┆ 0.383838 ┆ 2.308642 ┆ … ┆ null      ┆ 32.204208 ┆ null  ┆ null     │\n",
            "│ std        ┆ 257.353842  ┆ 0.486592 ┆ 0.836071 ┆ … ┆ null      ┆ 49.693429 ┆ null  ┆ null     │\n",
            "│ min        ┆ 1.0         ┆ 0.0      ┆ 1.0      ┆ … ┆ 110152    ┆ 0.0       ┆ A10   ┆ C        │\n",
            "│ 25%        ┆ 224.0       ┆ 0.0      ┆ 2.0      ┆ … ┆ null      ┆ 7.925     ┆ null  ┆ null     │\n",
            "│ 50%        ┆ 446.0       ┆ 0.0      ┆ 3.0      ┆ … ┆ null      ┆ 14.4542   ┆ null  ┆ null     │\n",
            "│ 75%        ┆ 669.0       ┆ 1.0      ┆ 3.0      ┆ … ┆ null      ┆ 31.0      ┆ null  ┆ null     │\n",
            "│ max        ┆ 891.0       ┆ 1.0      ┆ 3.0      ┆ … ┆ WE/P 5735 ┆ 512.3292  ┆ T     ┆ S        │\n",
            "└────────────┴─────────────┴──────────┴──────────┴───┴───────────┴───────────┴───────┴──────────┘\n",
            "\n",
            "Количество пассажиров по классам:\n",
            "shape: (3, 2)\n",
            "┌────────┬───────┐\n",
            "│ Pclass ┆ count │\n",
            "│ ---    ┆ ---   │\n",
            "│ i64    ┆ u32   │\n",
            "╞════════╪═══════╡\n",
            "│ 1      ┆ 216   │\n",
            "│ 2      ┆ 184   │\n",
            "│ 3      ┆ 491   │\n",
            "└────────┴───────┘\n",
            "\n",
            "Количество выживших по полу:\n",
            "shape: (2, 2)\n",
            "┌────────┬──────────┐\n",
            "│ Sex    ┆ Survived │\n",
            "│ ---    ┆ ---      │\n",
            "│ str    ┆ i64      │\n",
            "╞════════╪══════════╡\n",
            "│ female ┆ 233      │\n",
            "│ male   ┆ 109      │\n",
            "└────────┴──────────┘\n",
            "\n",
            "Пассажиры старше 44 лет:\n",
            "shape: (115, 12)\n",
            "┌─────────────┬──────────┬────────┬──────────────────┬───┬────────────┬─────────┬───────┬──────────┐\n",
            "│ PassengerId ┆ Survived ┆ Pclass ┆ Name             ┆ … ┆ Ticket     ┆ Fare    ┆ Cabin ┆ Embarked │\n",
            "│ ---         ┆ ---      ┆ ---    ┆ ---              ┆   ┆ ---        ┆ ---     ┆ ---   ┆ ---      │\n",
            "│ i64         ┆ i64      ┆ i64    ┆ str              ┆   ┆ str        ┆ f64     ┆ str   ┆ str      │\n",
            "╞═════════════╪══════════╪════════╪══════════════════╪═══╪════════════╪═════════╪═══════╪══════════╡\n",
            "│ 7           ┆ 0        ┆ 1      ┆ McCarthy, Mr.    ┆ … ┆ 17463      ┆ 51.8625 ┆ E46   ┆ S        │\n",
            "│             ┆          ┆        ┆ Timothy J        ┆   ┆            ┆         ┆       ┆          │\n",
            "│ 12          ┆ 1        ┆ 1      ┆ Bonnell, Miss.   ┆ … ┆ 113783     ┆ 26.55   ┆ C103  ┆ S        │\n",
            "│             ┆          ┆        ┆ Elizabeth        ┆   ┆            ┆         ┆       ┆          │\n",
            "│ 16          ┆ 1        ┆ 2      ┆ Hewlett, Mrs.    ┆ … ┆ 248706     ┆ 16.0    ┆ null  ┆ S        │\n",
            "│             ┆          ┆        ┆ (Mary D          ┆   ┆            ┆         ┆       ┆          │\n",
            "│             ┆          ┆        ┆ Kingcome…        ┆   ┆            ┆         ┆       ┆          │\n",
            "│ 34          ┆ 0        ┆ 2      ┆ Wheadon, Mr.     ┆ … ┆ C.A. 24579 ┆ 10.5    ┆ null  ┆ S        │\n",
            "│             ┆          ┆        ┆ Edward H         ┆   ┆            ┆         ┆       ┆          │\n",
            "│ 53          ┆ 1        ┆ 1      ┆ Harper, Mrs.     ┆ … ┆ PC 17572   ┆ 76.7292 ┆ D33   ┆ C        │\n",
            "│             ┆          ┆        ┆ Henry Sleeper    ┆   ┆            ┆         ┆       ┆          │\n",
            "│             ┆          ┆        ┆ (My…             ┆   ┆            ┆         ┆       ┆          │\n",
            "│ …           ┆ …        ┆ …      ┆ …                ┆ … ┆ …          ┆ …       ┆ …     ┆ …        │\n",
            "│ 858         ┆ 1        ┆ 1      ┆ Daly, Mr. Peter  ┆ … ┆ 113055     ┆ 26.55   ┆ E17   ┆ S        │\n",
            "│             ┆          ┆        ┆ Denis            ┆   ┆            ┆         ┆       ┆          │\n",
            "│ 863         ┆ 1        ┆ 1      ┆ Swift, Mrs.      ┆ … ┆ 17466      ┆ 25.9292 ┆ D17   ┆ S        │\n",
            "│             ┆          ┆        ┆ Frederick Joel   ┆   ┆            ┆         ┆       ┆          │\n",
            "│             ┆          ┆        ┆ (Ma…             ┆   ┆            ┆         ┆       ┆          │\n",
            "│ 872         ┆ 1        ┆ 1      ┆ Beckwith, Mrs.   ┆ … ┆ 11751      ┆ 52.5542 ┆ D35   ┆ S        │\n",
            "│             ┆          ┆        ┆ Richard Leonard… ┆   ┆            ┆         ┆       ┆          │\n",
            "│ 874         ┆ 0        ┆ 3      ┆ Vander Cruyssen, ┆ … ┆ 345765     ┆ 9.0     ┆ null  ┆ S        │\n",
            "│             ┆          ┆        ┆ Mr. Victor       ┆   ┆            ┆         ┆       ┆          │\n",
            "│ 880         ┆ 1        ┆ 1      ┆ Potter, Mrs.     ┆ … ┆ 11767      ┆ 83.1583 ┆ C50   ┆ C        │\n",
            "│             ┆          ┆        ┆ Thomas Jr (Lily  ┆   ┆            ┆         ┆       ┆          │\n",
            "│             ┆          ┆        ┆ A…               ┆   ┆            ┆         ┆       ┆          │\n",
            "└─────────────┴──────────┴────────┴──────────────────┴───┴────────────┴─────────┴───────┴──────────┘\n"
          ]
        }
      ],
      "source": [
        "import polars as pl\n",
        "\n",
        "df = pl.read_csv('https://raw.githubusercontent.com/ladydisdain5911/python_course_repo/refs/heads/main/train.csv')\n",
        "\n",
        "print(\"Типы данных:\")\n",
        "print(df.dtypes)\n",
        "print(\"\\nКоличество пропусков:\")\n",
        "print(df.null_count())\n",
        "print(\"\\nОписательная статистика:\")\n",
        "print(df.describe())\n",
        "\n",
        "print(\"\\nКоличество пассажиров по классам:\")\n",
        "print(df['Pclass'].value_counts())\n",
        "\n",
        "print(\"\\nКоличество выживших по полу:\")\n",
        "print(df.group_by('Sex').agg(pl.col('Survived').sum()))\n",
        "\n",
        "print(\"\\nПассажиры старше 44 лет:\")\n",
        "print(df.filter(pl.col('Age') > 44))"
      ]
    },
    {
      "cell_type": "code",
      "source": [
        "import pandas as pd\n",
        "import bottleneck as bn\n",
        "\n",
        "df_pd = pd.read_csv('https://raw.githubusercontent.com/ladydisdain5911/python_course_repo/refs/heads/main/train.csv')\n",
        "\n",
        "mean_age = bn.nanmean(df_pd['Age'].values)\n",
        "std_age = bn.nanstd(df_pd['Age'].values)\n",
        "print(f\"\\nСредний возраст: {mean_age:.2f}, STD: {std_age:.2f}\")\n",
        "\n",
        "# Способ 1: itertuples\n",
        "df_pd['Fare_new'] = [row.Fare * 1.3 for row in df_pd.itertuples()]\n",
        "\n",
        "# Способ 2: apply\n",
        "df_pd['Fare_new'] = df_pd['Fare'].apply(lambda x: x * 1.3)\n",
        "\n",
        "# Способ 3: векторные операции\n",
        "df_pd['Fare_new'] = df_pd['Fare'] * 1.3"
      ],
      "metadata": {
        "colab": {
          "base_uri": "https://localhost:8080/"
        },
        "id": "E_Zl2YvWD_yg",
        "outputId": "9451f16f-5556-40ad-ced5-c246f28a2fd6"
      },
      "execution_count": 6,
      "outputs": [
        {
          "output_type": "stream",
          "name": "stdout",
          "text": [
            "\n",
            "Средний возраст: 29.70, STD: 14.52\n"
          ]
        }
      ]
    },
    {
      "cell_type": "code",
      "source": [
        "housing = pd.read_csv('https://raw.githubusercontent.com/ladydisdain5911/python_course_repo/refs/heads/main/Housing.csv')\n",
        "\n",
        "print(\"\\nИсходное использование памяти в байтах:\")\n",
        "print(housing.memory_usage(deep=True))\n",
        "\n",
        "# price - большие целые значения, int32\n",
        "# area - int32\n",
        "# bedrooms, bathrooms, stories - малые значения, хватит int8\n",
        "# mainroad, guestroom, basement, hotwaterheating, airconditioning, parking, prefarea - boolean\n",
        "# furnishingstatus - category\n",
        "\n",
        "optimized = housing.copy()\n",
        "optimized['price'] = optimized['price'].astype('int32')\n",
        "optimized['area'] = optimized['area'].astype('int32')\n",
        "for col in ['bedrooms', 'bathrooms', 'stories', 'parking']:\n",
        "    optimized[col] = optimized[col].astype('int8')\n",
        "for col in ['mainroad', 'guestroom', 'basement', 'hotwaterheating', 'airconditioning', 'prefarea']:\n",
        "    optimized[col] = optimized[col].map({'yes': True, 'no': False})\n",
        "optimized['furnishingstatus'] = optimized['furnishingstatus'].astype('category')\n",
        "\n",
        "print(\"\\nОптимизированное использование памяти в байтах:\")\n",
        "print(optimized.memory_usage(deep=True))\n",
        "\n",
        "# Сравнение памяти\n",
        "original_mem = housing.memory_usage(deep=True).sum() / 1024\n",
        "optimized_mem = optimized.memory_usage(deep=True).sum() / 1024\n",
        "print(f\"\\nЭкономия памяти: {original_mem:.2f} KB -> {optimized_mem:.2f} KB\")"
      ],
      "metadata": {
        "colab": {
          "base_uri": "https://localhost:8080/"
        },
        "id": "LScXV3qyFFmo",
        "outputId": "2ef80335-1afb-44b2-d756-9d0dbd918cb8"
      },
      "execution_count": 13,
      "outputs": [
        {
          "output_type": "stream",
          "name": "stdout",
          "text": [
            "\n",
            "Исходное использование памяти в байтах:\n",
            "Index                 132\n",
            "price                4360\n",
            "area                 4360\n",
            "bedrooms             4360\n",
            "bathrooms            4360\n",
            "stories              4360\n",
            "mainroad            32623\n",
            "guestroom           32252\n",
            "basement            32346\n",
            "hotwaterheating     32180\n",
            "airconditioning     32327\n",
            "parking              4360\n",
            "prefarea            32283\n",
            "furnishingstatus    37461\n",
            "dtype: int64\n",
            "\n",
            "Оптимизированное использование памяти в байтах:\n",
            "Index                132\n",
            "price               2180\n",
            "area                2180\n",
            "bedrooms             545\n",
            "bathrooms            545\n",
            "stories              545\n",
            "mainroad             545\n",
            "guestroom            545\n",
            "basement             545\n",
            "hotwaterheating      545\n",
            "airconditioning      545\n",
            "parking              545\n",
            "prefarea             545\n",
            "furnishingstatus     858\n",
            "dtype: int64\n",
            "\n",
            "Экономия памяти: 251.72 KB -> 10.55 KB\n"
          ]
        }
      ]
    }
  ]
}